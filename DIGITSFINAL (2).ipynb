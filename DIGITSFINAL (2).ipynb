{
  "nbformat": 4,
  "nbformat_minor": 0,
  "metadata": {
    "colab": {
      "name": "DIGITSFINAL.ipynb",
      "provenance": [],
      "collapsed_sections": []
    },
    "kernelspec": {
      "name": "python3",
      "display_name": "Python 3"
    }
  },
  "cells": [
    {
      "cell_type": "markdown",
      "source": [
        "# MNIST Digit Classification"
      ],
      "metadata": {
        "id": "I2wrQ-ZCJeYw"
      }
    },
    {
      "cell_type": "code",
      "metadata": {
        "id": "xjKS6B1JDaEw",
        "colab": {
          "base_uri": "https://localhost:8080/"
        },
        "outputId": "90cefbdb-109e-4e96-bc4a-1e7145f2afae"
      },
      "source": [
        "from keras.datasets import mnist\n",
        "import matplotlib.pyplot as plt\n",
        "import tensorflow as tf\n",
        "from tensorflow.keras import datasets, layers, models\n",
        "# load (downloaded if needed) the MNIST dataset\n",
        "(X_train, y_train), (X_test, y_test) = mnist.load_data()"
      ],
      "execution_count": null,
      "outputs": [
        {
          "output_type": "stream",
          "text": [
            "Downloading data from https://storage.googleapis.com/tensorflow/tf-keras-datasets/mnist.npz\n",
            "11493376/11490434 [==============================] - 0s 0us/step\n",
            "11501568/11490434 [==============================] - 0s 0us/step\n"
          ],
          "name": "stdout"
        }
      ]
    },
    {
      "cell_type": "code",
      "metadata": {
        "id": "kuepykASDpVC"
      },
      "source": [
        "X_train = X_train / 255\n",
        "X_test = X_test / 255"
      ],
      "execution_count": null,
      "outputs": []
    },
    {
      "cell_type": "code",
      "metadata": {
        "id": "j7X5wPOOEJ_P",
        "colab": {
          "base_uri": "https://localhost:8080/",
          "height": 589
        },
        "outputId": "4cfa28ae-455d-456c-ce0f-e866de9d2a83"
      },
      "source": [
        "class_names = ['0','1','2','3','4','5','6','7','8','9']\n",
        "\n",
        "plt.figure(figsize=(10,10))\n",
        "for i in range(25):\n",
        "    plt.subplot(5,5,i+1)\n",
        "    plt.xticks([])\n",
        "    plt.yticks([])\n",
        "    plt.grid(False)\n",
        "    plt.imshow(X_train[i], cmap=plt.cm.binary)\n",
        "    \n",
        "    plt.xlabel(class_names[y_train[i]])\n",
        "plt.show()"
      ],
      "execution_count": null,
      "outputs": [
        {
          "output_type": "display_data",
          "data": {
            "image/png": "[encoded data removed]",
            "text/plain": [
              "<Figure size 720x720 with 25 Axes>"
            ]
          },
          "metadata": {}
        }
      ]
    },
    {
      "cell_type": "code",
      "metadata": {
        "id": "2JT6dbmpEkM1"
      },
      "source": [
        "X_train= X_train.reshape(60000, 28, 28, 1)\n",
        "X_test = X_test.reshape(10000, 28, 28, 1)\n",
        "X_train= X_train.astype('float32')\n",
        "X_test = X_test.astype('float32')"
      ],
      "execution_count": null,
      "outputs": []
    },
    {
      "cell_type": "code",
      "metadata": {
        "id": "c4qfvfosFC2C"
      },
      "source": [
        "model = models.Sequential()\n",
        "model.add(layers.Conv2D(32, (3, 3), activation='relu', input_shape=(28, 28, 1) ))\n",
        "model.add(layers.MaxPooling2D((2, 2)))\n",
        "model.add(layers.Conv2D(64, (3, 3), activation='relu'))\n",
        "model.add(layers.MaxPooling2D((2, 2)))\n"
      ],
      "execution_count": null,
      "outputs": []
    },
    {
      "cell_type": "code",
      "metadata": {
        "id": "_ieXTkUoFF1Y"
      },
      "source": [
        "model.add(layers.Flatten())\n",
        "model.add(layers.Dense(64, activation='relu'))\n",
        "model.add(layers.Dense(10,activation='softmax'))"
      ],
      "execution_count": null,
      "outputs": []
    },
    {
      "cell_type": "code",
      "metadata": {
        "id": "8iM-dUKlFdhr",
        "colab": {
          "base_uri": "https://localhost:8080/"
        },
        "outputId": "fa0bdf23-47a5-4e23-e4dc-454631532f0d"
      },
      "source": [
        "model.summary()"
      ],
      "execution_count": null,
      "outputs": [
        {
          "output_type": "stream",
          "text": [
            "Model: \"sequential\"\n",
            "_________________________________________________________________\n",
            "Layer (type)                 Output Shape              Param #   \n",
            "=================================================================\n",
            "conv2d (Conv2D)              (None, 26, 26, 32)        320       \n",
            "_________________________________________________________________\n",
            "max_pooling2d (MaxPooling2D) (None, 13, 13, 32)        0         \n",
            "_________________________________________________________________\n",
            "conv2d_1 (Conv2D)            (None, 11, 11, 64)        18496     \n",
            "_________________________________________________________________\n",
            "max_pooling2d_1 (MaxPooling2 (None, 5, 5, 64)          0         \n",
            "_________________________________________________________________\n",
            "flatten (Flatten)            (None, 1600)              0         \n",
            "_________________________________________________________________\n",
            "dense (Dense)                (None, 64)                102464    \n",
            "_________________________________________________________________\n",
            "dense_1 (Dense)              (None, 10)                650       \n",
            "=================================================================\n",
            "Total params: 121,930\n",
            "Trainable params: 121,930\n",
            "Non-trainable params: 0\n",
            "_________________________________________________________________\n"
          ],
          "name": "stdout"
        }
      ]
    },
    {
      "cell_type": "code",
      "metadata": {
        "id": "gHNhvhtcFhV7",
        "colab": {
          "base_uri": "https://localhost:8080/"
        },
        "outputId": "d64e9b9a-883f-482a-e1ec-919f5c2dd98f"
      },
      "source": [
        "model.compile(optimizer='adam',\n",
        "              loss=tf.keras.losses.SparseCategoricalCrossentropy(from_logits=True),\n",
        "              metrics=['accuracy'])\n",
        "\n",
        "history = model.fit(X_train, y_train, epochs=14,validation_data=(X_test, y_test))"
      ],
      "execution_count": null,
      "outputs": [
        {
          "output_type": "stream",
          "text": [
            "Epoch 1/14\n"
          ],
          "name": "stdout"
        },
        {
          "output_type": "stream",
          "text": [
            "/usr/local/lib/python3.7/dist-packages/keras/backend.py:4907: UserWarning: \"`sparse_categorical_crossentropy` received `from_logits=True`, but the `output` argument was produced by a sigmoid or softmax activation and thus does not represent logits. Was this intended?\"\n",
            "  '\"`sparse_categorical_crossentropy` received `from_logits=True`, but '\n"
          ],
          "name": "stderr"
        },
        {
          "output_type": "stream",
          "text": [
            "1875/1875 [==============================] - 58s 31ms/step - loss: 0.1380 - accuracy: 0.9581 - val_loss: 0.0528 - val_accuracy: 0.9832\n",
            "Epoch 2/14\n",
            "1875/1875 [==============================] - 57s 31ms/step - loss: 0.0463 - accuracy: 0.9855 - val_loss: 0.0344 - val_accuracy: 0.9876\n",
            "Epoch 3/14\n",
            "1875/1875 [==============================] - 57s 31ms/step - loss: 0.0318 - accuracy: 0.9902 - val_loss: 0.0342 - val_accuracy: 0.9886\n",
            "Epoch 4/14\n",
            "1875/1875 [==============================] - 58s 31ms/step - loss: 0.0228 - accuracy: 0.9927 - val_loss: 0.0285 - val_accuracy: 0.9904\n",
            "Epoch 5/14\n",
            "1875/1875 [==============================] - 58s 31ms/step - loss: 0.0179 - accuracy: 0.9942 - val_loss: 0.0363 - val_accuracy: 0.9884\n",
            "Epoch 6/14\n",
            "1875/1875 [==============================] - 58s 31ms/step - loss: 0.0138 - accuracy: 0.9954 - val_loss: 0.0299 - val_accuracy: 0.9915\n",
            "Epoch 7/14\n",
            "1875/1875 [==============================] - 58s 31ms/step - loss: 0.0113 - accuracy: 0.9964 - val_loss: 0.0352 - val_accuracy: 0.9902\n",
            "Epoch 8/14\n",
            "1875/1875 [==============================] - 57s 31ms/step - loss: 0.0089 - accuracy: 0.9971 - val_loss: 0.0346 - val_accuracy: 0.9905\n",
            "Epoch 9/14\n",
            "1875/1875 [==============================] - 57s 31ms/step - loss: 0.0080 - accuracy: 0.9974 - val_loss: 0.0316 - val_accuracy: 0.9915\n",
            "Epoch 10/14\n",
            "1875/1875 [==============================] - 58s 31ms/step - loss: 0.0066 - accuracy: 0.9977 - val_loss: 0.0408 - val_accuracy: 0.9903\n",
            "Epoch 11/14\n",
            "1875/1875 [==============================] - 57s 31ms/step - loss: 0.0063 - accuracy: 0.9980 - val_loss: 0.0393 - val_accuracy: 0.9907\n",
            "Epoch 12/14\n",
            "1875/1875 [==============================] - 58s 31ms/step - loss: 0.0053 - accuracy: 0.9981 - val_loss: 0.0734 - val_accuracy: 0.9842\n",
            "Epoch 13/14\n",
            "1875/1875 [==============================] - 57s 31ms/step - loss: 0.0046 - accuracy: 0.9983 - val_loss: 0.0542 - val_accuracy: 0.9896\n",
            "Epoch 14/14\n",
            "1875/1875 [==============================] - 57s 31ms/step - loss: 0.0058 - accuracy: 0.9981 - val_loss: 0.0537 - val_accuracy: 0.9895\n"
          ],
          "name": "stdout"
        }
      ]
    },
    {
      "cell_type": "code",
      "metadata": {
        "id": "_FGLaFVpFvDj",
        "colab": {
          "base_uri": "https://localhost:8080/",
          "height": 50
        },
        "outputId": "7cfad9d7-3505-4dcd-c2e0-a0fb94c1e22d"
      },
      "source": [
        "test_loss ,test_acc=model.evaluate(X_test,y_test,verbose=1)\n",
        "\n",
        "print(\"TEST ACCURACY:\",test_acc)"
      ],
      "execution_count": null,
      "outputs": [
        {
          "output_type": "stream",
          "text": [
            "313/313 [==============================] - 3s 9ms/step - loss: 1.4700 - accuracy: 0.9913\n",
            "TEST ACCURACY: 0.9912999868392944\n"
          ],
          "name": "stdout"
        }
      ]
    },
    {
      "cell_type": "code",
      "metadata": {
        "id": "KIYj3OQHIuM8",
        "colab": {
          "base_uri": "https://localhost:8080/",
          "height": 154
        },
        "outputId": "dae2ef3b-a713-474f-8b49-878c198014b4"
      },
      "source": [
        "model.save('Classify_im.model')"
      ],
      "execution_count": null,
      "outputs": [
        {
          "output_type": "stream",
          "text": [
            "WARNING:tensorflow:From /usr/local/lib/python3.6/dist-packages/tensorflow/python/training/tracking/tracking.py:111: Model.state_updates (from tensorflow.python.keras.engine.training) is deprecated and will be removed in a future version.\n",
            "Instructions for updating:\n",
            "This property should not be used in TensorFlow 2.0, as updates are applied automatically.\n",
            "WARNING:tensorflow:From /usr/local/lib/python3.6/dist-packages/tensorflow/python/training/tracking/tracking.py:111: Layer.updates (from tensorflow.python.keras.engine.base_layer) is deprecated and will be removed in a future version.\n",
            "Instructions for updating:\n",
            "This property should not be used in TensorFlow 2.0, as updates are applied automatically.\n",
            "INFO:tensorflow:Assets written to: Classify_im.model/assets\n"
          ],
          "name": "stdout"
        }
      ]
    },
    {
      "cell_type": "code",
      "metadata": {
        "id": "Vv_lP3AaIxtt"
      },
      "source": [
        "model1= tf.keras.models.load_model('Classify_im.model')"
      ],
      "execution_count": null,
      "outputs": []
    },
    {
      "cell_type": "code",
      "metadata": {
        "id": "gD7s3KJ6I0ow"
      },
      "source": [
        "model1= tf.keras.models.load_model('Classify_im.model')"
      ],
      "execution_count": null,
      "outputs": []
    },
    {
      "cell_type": "code",
      "metadata": {
        "id": "9528MD7BI3KZ"
      },
      "source": [
        "from keras.preprocessing import image\n",
        "img=image.load_img(r'7ocr.png',target_size=(28,28,1),color_mode='grayscale')"
      ],
      "execution_count": null,
      "outputs": []
    },
    {
      "cell_type": "code",
      "metadata": {
        "id": "jmB1RpHUJHJ2",
        "colab": {
          "base_uri": "https://localhost:8080/",
          "height": 282
        },
        "outputId": "6398988e-4a73-4ba2-88a7-8921dc89b905"
      },
      "source": [
        "plt.imshow(img,cmap=\"gray\")"
      ],
      "execution_count": null,
      "outputs": [
        {
          "output_type": "execute_result",
          "data": {
            "text/plain": [
              "<matplotlib.image.AxesImage at 0x7fa93b7c1e10>"
            ]
          },
          "metadata": {
            "tags": []
          },
          "execution_count": 20
        },
        {
          "output_type": "display_data",
          "data": {
            "image/png": "[encoded data removed]",
            "text/plain": [
              "<Figure size 432x288 with 1 Axes>"
            ]
          },
          "metadata": {
            "tags": [],
            "needs_background": "light"
          }
        }
      ]
    },
    {
      "cell_type": "code",
      "metadata": {
        "id": "7tPsPzzLJTuv"
      },
      "source": [
        "import numpy as np\n",
        "img=image.img_to_array(img) \n",
        "img/=255    \n",
        "img=np.array([img]) "
      ],
      "execution_count": null,
      "outputs": []
    },
    {
      "cell_type": "code",
      "metadata": {
        "id": "kX9L_mGgJYq4",
        "colab": {
          "base_uri": "https://localhost:8080/",
          "height": 34
        },
        "outputId": "c7c38828-9cb1-44dd-f4e0-21b5396a9704"
      },
      "source": [
        "np.argmax(model.predict(img), axis=-1)"
      ],
      "execution_count": null,
      "outputs": [
        {
          "output_type": "execute_result",
          "data": {
            "text/plain": [
              "array([7])"
            ]
          },
          "metadata": {
            "tags": []
          },
          "execution_count": 22
        }
      ]
    },
    {
      "cell_type": "code",
      "metadata": {
        "id": "c5a2GiogJb-Q",
        "colab": {
          "base_uri": "https://localhost:8080/",
          "height": 282
        },
        "outputId": "d2968173-8020-4b4d-fed7-e806444c8366"
      },
      "source": [
        "img1=image.load_img(r'6ocr.png',target_size=(28,28,1),color_mode='grayscale')\n",
        "plt.imshow(img1,cmap=\"gray\")"
      ],
      "execution_count": null,
      "outputs": [
        {
          "output_type": "execute_result",
          "data": {
            "text/plain": [
              "<matplotlib.image.AxesImage at 0x7fa93b743940>"
            ]
          },
          "metadata": {
            "tags": []
          },
          "execution_count": 27
        },
        {
          "output_type": "display_data",
          "data": {
            "image/png": "[encoded data removed]",
            "text/plain": [
              "<Figure size 432x288 with 1 Axes>"
            ]
          },
          "metadata": {
            "tags": [],
            "needs_background": "light"
          }
        }
      ]
    },
    {
      "cell_type": "code",
      "metadata": {
        "id": "K0hMfjlNJ_nu"
      },
      "source": [
        "import numpy as np\n",
        "img1=image.img_to_array(img1) \n",
        "img1/=255    \n",
        "img1=np.array([img1])\n"
      ],
      "execution_count": null,
      "outputs": []
    },
    {
      "cell_type": "code",
      "metadata": {
        "id": "cmpQfrDLKLMU",
        "colab": {
          "base_uri": "https://localhost:8080/",
          "height": 34
        },
        "outputId": "5fdc587c-5bcc-443a-a6b7-953332d7305b"
      },
      "source": [
        "np.argmax(model.predict(img1), axis=-1)"
      ],
      "execution_count": null,
      "outputs": [
        {
          "output_type": "execute_result",
          "data": {
            "text/plain": [
              "array([6])"
            ]
          },
          "metadata": {
            "tags": []
          },
          "execution_count": 29
        }
      ]
    },
    {
      "cell_type": "code",
      "metadata": {
        "id": "Iz63eY3QKPPT"
      },
      "source": [
        ""
      ],
      "execution_count": null,
      "outputs": []
    }
  ]
}